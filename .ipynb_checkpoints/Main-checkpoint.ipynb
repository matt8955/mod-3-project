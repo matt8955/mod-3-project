{
 "cells": [
  {
   "cell_type": "code",
   "execution_count": 3,
   "metadata": {
    "ExecuteTime": {
     "end_time": "2019-07-22T19:44:30.842131Z",
     "start_time": "2019-07-22T19:44:29.718602Z"
    }
   },
   "outputs": [],
   "source": [
    "import pandas as pd\n",
    "import functions as f\n",
    "import sqlalchemy as db\n",
    "from tqdm import tqdm "
   ]
  },
  {
   "cell_type": "markdown",
   "metadata": {},
   "source": [
    "obtain a list of all the tickers in the sp500 to scrape"
   ]
  },
  {
   "cell_type": "code",
   "execution_count": null,
   "metadata": {
    "ExecuteTime": {
     "end_time": "2019-07-22T19:19:31.710340Z",
     "start_time": "2019-07-22T19:19:31.688514Z"
    }
   },
   "outputs": [],
   "source": [
    "df = pd.read_csv('csv/sp500.csv')\n",
    "symbols = list(df.Symbol)"
   ]
  },
  {
   "cell_type": "markdown",
   "metadata": {},
   "source": [
    "now scrape all the s&p500 stocks"
   ]
  },
  {
   "cell_type": "code",
   "execution_count": null,
   "metadata": {},
   "outputs": [],
   "source": [
    "for symbol in tqdm(symbols):\n",
    "    f.scrape(symbol)"
   ]
  },
  {
   "cell_type": "markdown",
   "metadata": {},
   "source": [
    "join them to create a large dataframe with closing prices of all the stocks "
   ]
  },
  {
   "cell_type": "code",
   "execution_count": null,
   "metadata": {},
   "outputs": [],
   "source": [
    "f.scrape.merge_frames()    "
   ]
  },
  {
   "cell_type": "markdown",
   "metadata": {},
   "source": [
    "using sqlalchemy and pandas turn the dataframe into a database table"
   ]
  },
  {
   "cell_type": "code",
   "execution_count": null,
   "metadata": {},
   "outputs": [],
   "source": [
    "engine = db.create_engine('sqlite:///closing_price.db')\n",
    "f.scrape.add_to_db(closing_price, engine)"
   ]
  },
  {
   "cell_type": "markdown",
   "metadata": {},
   "source": [
    "load the dataframe from the database"
   ]
  },
  {
   "cell_type": "code",
   "execution_count": 4,
   "metadata": {
    "ExecuteTime": {
     "end_time": "2019-07-22T19:44:37.343748Z",
     "start_time": "2019-07-22T19:44:36.885780Z"
    }
   },
   "outputs": [],
   "source": [
    "engine = db.create_engine('sqlite:///closing_price.db')\n",
    "df_prices = pd.read_sql_table('price_close', con=engine)"
   ]
  },
  {
   "cell_type": "markdown",
   "metadata": {},
   "source": [
    "clean up closing prices"
   ]
  },
  {
   "cell_type": "code",
   "execution_count": 5,
   "metadata": {
    "ExecuteTime": {
     "end_time": "2019-07-22T19:44:39.311705Z",
     "start_time": "2019-07-22T19:44:39.299103Z"
    }
   },
   "outputs": [],
   "source": [
    "df_prices.set_index('date', inplace=True)\n",
    "df_prices.drop(columns=['index'], inplace=True)"
   ]
  },
  {
   "cell_type": "markdown",
   "metadata": {},
   "source": [
    "load the jaccard scores"
   ]
  },
  {
   "cell_type": "code",
   "execution_count": 6,
   "metadata": {
    "ExecuteTime": {
     "end_time": "2019-07-22T19:44:40.171774Z",
     "start_time": "2019-07-22T19:44:40.148713Z"
    }
   },
   "outputs": [],
   "source": [
    "import pandas as pd\n",
    "jaccard_df = pd.read_csv('jaccard.csv')"
   ]
  },
  {
   "cell_type": "markdown",
   "metadata": {},
   "source": [
    "clean the jaccard scores"
   ]
  },
  {
   "cell_type": "code",
   "execution_count": 7,
   "metadata": {
    "ExecuteTime": {
     "end_time": "2019-07-22T19:44:40.716820Z",
     "start_time": "2019-07-22T19:44:40.699050Z"
    }
   },
   "outputs": [],
   "source": [
    "jaccard_df['Symbol'] = jaccard_df['0'].apply(lambda x: x.split()[0])\n",
    "jaccard_df['Symbol'] = jaccard_df['Symbol'].apply(lambda x: x[2:-2])\n",
    "jaccard_df['Year'] = jaccard_df['0'].apply(lambda x: x.split()[1])\n",
    "jaccard_df['Year'] = jaccard_df['Year'].apply(lambda x: x[:-1])\n",
    "jaccard_df.drop(columns = ['0'],inplace=True)\n",
    "jaccard_df.drop(columns = ['Unnamed: 0'],inplace=True)\n",
    "jaccard_df.columns = ['jaccard_score', 'symbol', 'year']"
   ]
  },
  {
   "cell_type": "code",
   "execution_count": 8,
   "metadata": {
    "ExecuteTime": {
     "end_time": "2019-07-22T19:44:41.428379Z",
     "start_time": "2019-07-22T19:44:41.402986Z"
    }
   },
   "outputs": [
    {
     "data": {
      "text/html": [
       "<div>\n",
       "<style scoped>\n",
       "    .dataframe tbody tr th:only-of-type {\n",
       "        vertical-align: middle;\n",
       "    }\n",
       "\n",
       "    .dataframe tbody tr th {\n",
       "        vertical-align: top;\n",
       "    }\n",
       "\n",
       "    .dataframe thead th {\n",
       "        text-align: right;\n",
       "    }\n",
       "</style>\n",
       "<table border=\"1\" class=\"dataframe\">\n",
       "  <thead>\n",
       "    <tr style=\"text-align: right;\">\n",
       "      <th></th>\n",
       "      <th>jaccard_score</th>\n",
       "      <th>symbol</th>\n",
       "      <th>year</th>\n",
       "    </tr>\n",
       "  </thead>\n",
       "  <tbody>\n",
       "    <tr>\n",
       "      <th>0</th>\n",
       "      <td>0.031066</td>\n",
       "      <td>FB</td>\n",
       "      <td>2019</td>\n",
       "    </tr>\n",
       "    <tr>\n",
       "      <th>1</th>\n",
       "      <td>0.038371</td>\n",
       "      <td>FBHS</td>\n",
       "      <td>2018</td>\n",
       "    </tr>\n",
       "    <tr>\n",
       "      <th>2</th>\n",
       "      <td>0.035291</td>\n",
       "      <td>FBHS</td>\n",
       "      <td>2019</td>\n",
       "    </tr>\n",
       "    <tr>\n",
       "      <th>3</th>\n",
       "      <td>0.008125</td>\n",
       "      <td>FCX</td>\n",
       "      <td>2018</td>\n",
       "    </tr>\n",
       "    <tr>\n",
       "      <th>4</th>\n",
       "      <td>0.017146</td>\n",
       "      <td>FCX</td>\n",
       "      <td>2019</td>\n",
       "    </tr>\n",
       "  </tbody>\n",
       "</table>\n",
       "</div>"
      ],
      "text/plain": [
       "   jaccard_score symbol  year\n",
       "0       0.031066     FB  2019\n",
       "1       0.038371   FBHS  2018\n",
       "2       0.035291   FBHS  2019\n",
       "3       0.008125    FCX  2018\n",
       "4       0.017146    FCX  2019"
      ]
     },
     "execution_count": 8,
     "metadata": {},
     "output_type": "execute_result"
    }
   ],
   "source": [
    "jaccard_df.head()"
   ]
  },
  {
   "cell_type": "markdown",
   "metadata": {},
   "source": [
    "create a dataframe 8 month returns "
   ]
  },
  {
   "cell_type": "code",
   "execution_count": 9,
   "metadata": {
    "ExecuteTime": {
     "end_time": "2019-07-22T19:44:42.746547Z",
     "start_time": "2019-07-22T19:44:42.713961Z"
    }
   },
   "outputs": [],
   "source": [
    "df_returns = f.transform_to_august_returns(df_prices)"
   ]
  },
  {
   "cell_type": "code",
   "execution_count": 10,
   "metadata": {
    "ExecuteTime": {
     "end_time": "2019-07-22T19:44:43.544303Z",
     "start_time": "2019-07-22T19:44:43.520307Z"
    }
   },
   "outputs": [
    {
     "data": {
      "text/html": [
       "<div>\n",
       "<style scoped>\n",
       "    .dataframe tbody tr th:only-of-type {\n",
       "        vertical-align: middle;\n",
       "    }\n",
       "\n",
       "    .dataframe tbody tr th {\n",
       "        vertical-align: top;\n",
       "    }\n",
       "\n",
       "    .dataframe thead th {\n",
       "        text-align: right;\n",
       "    }\n",
       "</style>\n",
       "<table border=\"1\" class=\"dataframe\">\n",
       "  <thead>\n",
       "    <tr style=\"text-align: right;\">\n",
       "      <th></th>\n",
       "      <th>2014</th>\n",
       "      <th>2015</th>\n",
       "      <th>2016</th>\n",
       "      <th>2017</th>\n",
       "      <th>2018</th>\n",
       "      <th>2019</th>\n",
       "    </tr>\n",
       "  </thead>\n",
       "  <tbody>\n",
       "    <tr>\n",
       "      <th>MMM</th>\n",
       "      <td>0.044131</td>\n",
       "      <td>-0.051262</td>\n",
       "      <td>0.195614</td>\n",
       "      <td>0.178489</td>\n",
       "      <td>-0.170260</td>\n",
       "      <td>-0.086096</td>\n",
       "    </tr>\n",
       "    <tr>\n",
       "      <th>AOS</th>\n",
       "      <td>-0.066592</td>\n",
       "      <td>0.310123</td>\n",
       "      <td>0.160016</td>\n",
       "      <td>0.190526</td>\n",
       "      <td>-0.041281</td>\n",
       "      <td>0.079595</td>\n",
       "    </tr>\n",
       "    <tr>\n",
       "      <th>ABT</th>\n",
       "      <td>0.065735</td>\n",
       "      <td>0.102895</td>\n",
       "      <td>-0.078966</td>\n",
       "      <td>0.247375</td>\n",
       "      <td>0.037591</td>\n",
       "      <td>0.215683</td>\n",
       "    </tr>\n",
       "    <tr>\n",
       "      <th>ABBV</th>\n",
       "      <td>0.087763</td>\n",
       "      <td>0.039763</td>\n",
       "      <td>0.088526</td>\n",
       "      <td>0.160391</td>\n",
       "      <td>-0.053856</td>\n",
       "      <td>-0.177407</td>\n",
       "    </tr>\n",
       "    <tr>\n",
       "      <th>ACN</th>\n",
       "      <td>-0.001843</td>\n",
       "      <td>0.103782</td>\n",
       "      <td>0.114799</td>\n",
       "      <td>0.064142</td>\n",
       "      <td>0.061037</td>\n",
       "      <td>0.329184</td>\n",
       "    </tr>\n",
       "  </tbody>\n",
       "</table>\n",
       "</div>"
      ],
      "text/plain": [
       "          2014      2015      2016      2017      2018      2019\n",
       "MMM   0.044131 -0.051262  0.195614  0.178489 -0.170260 -0.086096\n",
       "AOS  -0.066592  0.310123  0.160016  0.190526 -0.041281  0.079595\n",
       "ABT   0.065735  0.102895 -0.078966  0.247375  0.037591  0.215683\n",
       "ABBV  0.087763  0.039763  0.088526  0.160391 -0.053856 -0.177407\n",
       "ACN  -0.001843  0.103782  0.114799  0.064142  0.061037  0.329184"
      ]
     },
     "execution_count": 10,
     "metadata": {},
     "output_type": "execute_result"
    }
   ],
   "source": [
    "df_returns.head()"
   ]
  },
  {
   "cell_type": "markdown",
   "metadata": {},
   "source": [
    "create two datasets of 2019 and 2018 returns with their jaccard score"
   ]
  },
  {
   "cell_type": "code",
   "execution_count": null,
   "metadata": {},
   "outputs": [],
   "source": []
  }
 ],
 "metadata": {
  "kernelspec": {
   "display_name": "Python 3",
   "language": "python",
   "name": "python3"
  },
  "language_info": {
   "codemirror_mode": {
    "name": "ipython",
    "version": 3
   },
   "file_extension": ".py",
   "mimetype": "text/x-python",
   "name": "python",
   "nbconvert_exporter": "python",
   "pygments_lexer": "ipython3",
   "version": "3.7.3"
  },
  "toc": {
   "base_numbering": 1,
   "nav_menu": {},
   "number_sections": true,
   "sideBar": true,
   "skip_h1_title": false,
   "title_cell": "Table of Contents",
   "title_sidebar": "Contents",
   "toc_cell": false,
   "toc_position": {},
   "toc_section_display": true,
   "toc_window_display": false
  }
 },
 "nbformat": 4,
 "nbformat_minor": 4
}
