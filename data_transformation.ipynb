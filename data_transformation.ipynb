{
 "cells": [
  {
   "cell_type": "code",
   "execution_count": 96,
   "metadata": {},
   "outputs": [],
   "source": [
    "import pandas as pd\n",
    "import sqlalchemy as db\n",
    "from matplotlib import pyplot as plt\n",
    "import seaborn as sns\n",
    "import functions as f\n",
    "import statsmodels.formula.api as smf\n",
    "%matplotlib inline"
   ]
  },
  {
   "cell_type": "code",
   "execution_count": null,
   "metadata": {},
   "outputs": [],
   "source": []
  },
  {
   "cell_type": "code",
   "execution_count": 67,
   "metadata": {},
   "outputs": [],
   "source": [
    "engine = db.create_engine('sqlite:///stocks_formatted.db')"
   ]
  },
  {
   "cell_type": "code",
   "execution_count": 68,
   "metadata": {},
   "outputs": [],
   "source": [
    "df_prices = pd.read_sql_table('price_close', con=engine)"
   ]
  },
  {
   "cell_type": "code",
   "execution_count": 69,
   "metadata": {},
   "outputs": [],
   "source": [
    "df_companies = pd.read_sql_table('company', con=engine)"
   ]
  },
  {
   "cell_type": "code",
   "execution_count": 70,
   "metadata": {},
   "outputs": [],
   "source": [
    "cosine_df = pd.read_csv('lowestCosine.csv')"
   ]
  },
  {
   "cell_type": "markdown",
   "metadata": {},
   "source": [
    "calculate 8 month percentagre change in price from jan"
   ]
  },
  {
   "cell_type": "code",
   "execution_count": 71,
   "metadata": {},
   "outputs": [],
   "source": [
    "df_prices.set_index('date', inplace=True)\n",
    "df_prices.drop(columns=['index'], inplace=True)"
   ]
  },
  {
   "cell_type": "code",
   "execution_count": 72,
   "metadata": {},
   "outputs": [
    {
     "data": {
      "text/html": [
       "<div>\n",
       "<style scoped>\n",
       "    .dataframe tbody tr th:only-of-type {\n",
       "        vertical-align: middle;\n",
       "    }\n",
       "\n",
       "    .dataframe tbody tr th {\n",
       "        vertical-align: top;\n",
       "    }\n",
       "\n",
       "    .dataframe thead th {\n",
       "        text-align: right;\n",
       "    }\n",
       "</style>\n",
       "<table border=\"1\" class=\"dataframe\">\n",
       "  <thead>\n",
       "    <tr style=\"text-align: right;\">\n",
       "      <th></th>\n",
       "      <th>MMM</th>\n",
       "      <th>AOS</th>\n",
       "      <th>ABT</th>\n",
       "      <th>ABBV</th>\n",
       "      <th>ACN</th>\n",
       "      <th>ATVI</th>\n",
       "      <th>AYI</th>\n",
       "      <th>ADBE</th>\n",
       "      <th>AAP</th>\n",
       "      <th>AMD</th>\n",
       "      <th>...</th>\n",
       "      <th>WU</th>\n",
       "      <th>WY</th>\n",
       "      <th>WHR</th>\n",
       "      <th>WMB</th>\n",
       "      <th>WYNN</th>\n",
       "      <th>XEL</th>\n",
       "      <th>XRX</th>\n",
       "      <th>XLNX</th>\n",
       "      <th>XYL</th>\n",
       "      <th>YUM</th>\n",
       "    </tr>\n",
       "    <tr>\n",
       "      <th>date</th>\n",
       "      <th></th>\n",
       "      <th></th>\n",
       "      <th></th>\n",
       "      <th></th>\n",
       "      <th></th>\n",
       "      <th></th>\n",
       "      <th></th>\n",
       "      <th></th>\n",
       "      <th></th>\n",
       "      <th></th>\n",
       "      <th></th>\n",
       "      <th></th>\n",
       "      <th></th>\n",
       "      <th></th>\n",
       "      <th></th>\n",
       "      <th></th>\n",
       "      <th></th>\n",
       "      <th></th>\n",
       "      <th></th>\n",
       "      <th></th>\n",
       "      <th></th>\n",
       "    </tr>\n",
       "  </thead>\n",
       "  <tbody>\n",
       "    <tr>\n",
       "      <th>2014-01-09</th>\n",
       "      <td>136.45</td>\n",
       "      <td>52.48</td>\n",
       "      <td>39.27</td>\n",
       "      <td>51.22</td>\n",
       "      <td>82.95</td>\n",
       "      <td>18.300</td>\n",
       "      <td>123.50</td>\n",
       "      <td>59.09</td>\n",
       "      <td>113.55</td>\n",
       "      <td>4.09</td>\n",
       "      <td>...</td>\n",
       "      <td>17.06</td>\n",
       "      <td>31.00</td>\n",
       "      <td>159.01</td>\n",
       "      <td>39.25</td>\n",
       "      <td>204.77</td>\n",
       "      <td>27.82</td>\n",
       "      <td>12.05</td>\n",
       "      <td>45.78</td>\n",
       "      <td>34.63</td>\n",
       "      <td>75.05</td>\n",
       "    </tr>\n",
       "    <tr>\n",
       "      <th>2014-01-08</th>\n",
       "      <td>136.63</td>\n",
       "      <td>52.15</td>\n",
       "      <td>39.20</td>\n",
       "      <td>50.36</td>\n",
       "      <td>82.15</td>\n",
       "      <td>18.340</td>\n",
       "      <td>110.03</td>\n",
       "      <td>58.90</td>\n",
       "      <td>112.30</td>\n",
       "      <td>4.18</td>\n",
       "      <td>...</td>\n",
       "      <td>17.42</td>\n",
       "      <td>30.82</td>\n",
       "      <td>157.60</td>\n",
       "      <td>39.16</td>\n",
       "      <td>205.29</td>\n",
       "      <td>27.71</td>\n",
       "      <td>12.08</td>\n",
       "      <td>45.91</td>\n",
       "      <td>34.49</td>\n",
       "      <td>76.53</td>\n",
       "    </tr>\n",
       "    <tr>\n",
       "      <th>2014-01-07</th>\n",
       "      <td>137.65</td>\n",
       "      <td>52.75</td>\n",
       "      <td>38.85</td>\n",
       "      <td>50.49</td>\n",
       "      <td>81.52</td>\n",
       "      <td>18.315</td>\n",
       "      <td>109.44</td>\n",
       "      <td>58.97</td>\n",
       "      <td>113.18</td>\n",
       "      <td>4.18</td>\n",
       "      <td>...</td>\n",
       "      <td>17.44</td>\n",
       "      <td>31.11</td>\n",
       "      <td>154.58</td>\n",
       "      <td>39.01</td>\n",
       "      <td>201.51</td>\n",
       "      <td>27.82</td>\n",
       "      <td>12.19</td>\n",
       "      <td>45.52</td>\n",
       "      <td>34.51</td>\n",
       "      <td>76.56</td>\n",
       "    </tr>\n",
       "    <tr>\n",
       "      <th>2014-01-06</th>\n",
       "      <td>137.63</td>\n",
       "      <td>53.27</td>\n",
       "      <td>39.15</td>\n",
       "      <td>50.39</td>\n",
       "      <td>80.54</td>\n",
       "      <td>18.080</td>\n",
       "      <td>106.28</td>\n",
       "      <td>58.12</td>\n",
       "      <td>111.80</td>\n",
       "      <td>4.13</td>\n",
       "      <td>...</td>\n",
       "      <td>17.06</td>\n",
       "      <td>31.02</td>\n",
       "      <td>154.45</td>\n",
       "      <td>38.40</td>\n",
       "      <td>195.86</td>\n",
       "      <td>27.35</td>\n",
       "      <td>12.09</td>\n",
       "      <td>45.42</td>\n",
       "      <td>34.41</td>\n",
       "      <td>75.50</td>\n",
       "    </tr>\n",
       "    <tr>\n",
       "      <th>2014-01-03</th>\n",
       "      <td>138.45</td>\n",
       "      <td>53.31</td>\n",
       "      <td>38.64</td>\n",
       "      <td>52.30</td>\n",
       "      <td>81.40</td>\n",
       "      <td>18.290</td>\n",
       "      <td>108.15</td>\n",
       "      <td>59.16</td>\n",
       "      <td>112.88</td>\n",
       "      <td>4.00</td>\n",
       "      <td>...</td>\n",
       "      <td>16.92</td>\n",
       "      <td>31.34</td>\n",
       "      <td>156.90</td>\n",
       "      <td>38.03</td>\n",
       "      <td>196.00</td>\n",
       "      <td>27.50</td>\n",
       "      <td>11.99</td>\n",
       "      <td>45.62</td>\n",
       "      <td>34.47</td>\n",
       "      <td>75.56</td>\n",
       "    </tr>\n",
       "  </tbody>\n",
       "</table>\n",
       "<p>5 rows × 459 columns</p>\n",
       "</div>"
      ],
      "text/plain": [
       "               MMM    AOS    ABT   ABBV    ACN    ATVI     AYI   ADBE     AAP  \\\n",
       "date                                                                            \n",
       "2014-01-09  136.45  52.48  39.27  51.22  82.95  18.300  123.50  59.09  113.55   \n",
       "2014-01-08  136.63  52.15  39.20  50.36  82.15  18.340  110.03  58.90  112.30   \n",
       "2014-01-07  137.65  52.75  38.85  50.49  81.52  18.315  109.44  58.97  113.18   \n",
       "2014-01-06  137.63  53.27  39.15  50.39  80.54  18.080  106.28  58.12  111.80   \n",
       "2014-01-03  138.45  53.31  38.64  52.30  81.40  18.290  108.15  59.16  112.88   \n",
       "\n",
       "             AMD  ...     WU     WY     WHR    WMB    WYNN    XEL    XRX  \\\n",
       "date              ...                                                      \n",
       "2014-01-09  4.09  ...  17.06  31.00  159.01  39.25  204.77  27.82  12.05   \n",
       "2014-01-08  4.18  ...  17.42  30.82  157.60  39.16  205.29  27.71  12.08   \n",
       "2014-01-07  4.18  ...  17.44  31.11  154.58  39.01  201.51  27.82  12.19   \n",
       "2014-01-06  4.13  ...  17.06  31.02  154.45  38.40  195.86  27.35  12.09   \n",
       "2014-01-03  4.00  ...  16.92  31.34  156.90  38.03  196.00  27.50  11.99   \n",
       "\n",
       "             XLNX    XYL    YUM  \n",
       "date                             \n",
       "2014-01-09  45.78  34.63  75.05  \n",
       "2014-01-08  45.91  34.49  76.53  \n",
       "2014-01-07  45.52  34.51  76.56  \n",
       "2014-01-06  45.42  34.41  75.50  \n",
       "2014-01-03  45.62  34.47  75.56  \n",
       "\n",
       "[5 rows x 459 columns]"
      ]
     },
     "execution_count": 72,
     "metadata": {},
     "output_type": "execute_result"
    }
   ],
   "source": [
    "df_prices.tail()"
   ]
  },
  {
   "cell_type": "code",
   "execution_count": 73,
   "metadata": {},
   "outputs": [],
   "source": [
    "df_returns = f.transform_to_august_returns(df_prices)"
   ]
  },
  {
   "cell_type": "code",
   "execution_count": 9,
   "metadata": {
    "scrolled": true
   },
   "outputs": [
    {
     "data": {
      "image/png": "[encoded data removed]",
      "text/plain": [
       "<Figure size 432x288 with 1 Axes>"
      ]
     },
     "metadata": {
      "needs_background": "light"
     },
     "output_type": "display_data"
    }
   ],
   "source": [
    "for col in df_returns.columns:\n",
    "    sns.kdeplot(df_returns[col])"
   ]
  },
  {
   "cell_type": "code",
   "execution_count": 10,
   "metadata": {},
   "outputs": [],
   "source": [
    "sp_500_df = pd.read_csv('sp500_daily.csv')"
   ]
  },
  {
   "cell_type": "code",
   "execution_count": 11,
   "metadata": {},
   "outputs": [],
   "source": [
    "sp_500_df.set_index(['Date'], inplace= True)"
   ]
  },
  {
   "cell_type": "code",
   "execution_count": 12,
   "metadata": {},
   "outputs": [
    {
     "data": {
      "text/html": [
       "<div>\n",
       "<style scoped>\n",
       "    .dataframe tbody tr th:only-of-type {\n",
       "        vertical-align: middle;\n",
       "    }\n",
       "\n",
       "    .dataframe tbody tr th {\n",
       "        vertical-align: top;\n",
       "    }\n",
       "\n",
       "    .dataframe thead th {\n",
       "        text-align: right;\n",
       "    }\n",
       "</style>\n",
       "<table border=\"1\" class=\"dataframe\">\n",
       "  <thead>\n",
       "    <tr style=\"text-align: right;\">\n",
       "      <th></th>\n",
       "      <th>Open</th>\n",
       "      <th>High</th>\n",
       "      <th>Low</th>\n",
       "      <th>Close</th>\n",
       "      <th>Adj Close</th>\n",
       "      <th>Volume</th>\n",
       "    </tr>\n",
       "    <tr>\n",
       "      <th>Date</th>\n",
       "      <th></th>\n",
       "      <th></th>\n",
       "      <th></th>\n",
       "      <th></th>\n",
       "      <th></th>\n",
       "      <th></th>\n",
       "    </tr>\n",
       "  </thead>\n",
       "  <tbody>\n",
       "    <tr>\n",
       "      <th>2014-01-03</th>\n",
       "      <td>1833.209961</td>\n",
       "      <td>1838.239990</td>\n",
       "      <td>1829.130005</td>\n",
       "      <td>1831.369995</td>\n",
       "      <td>1831.369995</td>\n",
       "      <td>2774270000</td>\n",
       "    </tr>\n",
       "    <tr>\n",
       "      <th>2014-01-06</th>\n",
       "      <td>1832.310059</td>\n",
       "      <td>1837.160034</td>\n",
       "      <td>1823.729980</td>\n",
       "      <td>1826.770020</td>\n",
       "      <td>1826.770020</td>\n",
       "      <td>3294850000</td>\n",
       "    </tr>\n",
       "    <tr>\n",
       "      <th>2014-01-07</th>\n",
       "      <td>1828.709961</td>\n",
       "      <td>1840.099976</td>\n",
       "      <td>1828.709961</td>\n",
       "      <td>1837.880005</td>\n",
       "      <td>1837.880005</td>\n",
       "      <td>3511750000</td>\n",
       "    </tr>\n",
       "    <tr>\n",
       "      <th>2014-01-08</th>\n",
       "      <td>1837.900024</td>\n",
       "      <td>1840.020020</td>\n",
       "      <td>1831.400024</td>\n",
       "      <td>1837.489990</td>\n",
       "      <td>1837.489990</td>\n",
       "      <td>3652140000</td>\n",
       "    </tr>\n",
       "    <tr>\n",
       "      <th>2014-01-09</th>\n",
       "      <td>1839.000000</td>\n",
       "      <td>1843.229980</td>\n",
       "      <td>1830.380005</td>\n",
       "      <td>1838.130005</td>\n",
       "      <td>1838.130005</td>\n",
       "      <td>3581150000</td>\n",
       "    </tr>\n",
       "  </tbody>\n",
       "</table>\n",
       "</div>"
      ],
      "text/plain": [
       "                   Open         High          Low        Close    Adj Close  \\\n",
       "Date                                                                          \n",
       "2014-01-03  1833.209961  1838.239990  1829.130005  1831.369995  1831.369995   \n",
       "2014-01-06  1832.310059  1837.160034  1823.729980  1826.770020  1826.770020   \n",
       "2014-01-07  1828.709961  1840.099976  1828.709961  1837.880005  1837.880005   \n",
       "2014-01-08  1837.900024  1840.020020  1831.400024  1837.489990  1837.489990   \n",
       "2014-01-09  1839.000000  1843.229980  1830.380005  1838.130005  1838.130005   \n",
       "\n",
       "                Volume  \n",
       "Date                    \n",
       "2014-01-03  2774270000  \n",
       "2014-01-06  3294850000  \n",
       "2014-01-07  3511750000  \n",
       "2014-01-08  3652140000  \n",
       "2014-01-09  3581150000  "
      ]
     },
     "execution_count": 12,
     "metadata": {},
     "output_type": "execute_result"
    }
   ],
   "source": [
    "sp_500_df.head()"
   ]
  },
  {
   "cell_type": "code",
   "execution_count": 13,
   "metadata": {},
   "outputs": [],
   "source": [
    "nasdaq = pd.read_csv('csv/NASDAQ.csv')\n",
    "amex = pd.read_csv('csv/AMEX.csv')\n",
    "nyse = pd.read_csv('csv/NYSE.csv')"
   ]
  },
  {
   "cell_type": "code",
   "execution_count": 14,
   "metadata": {},
   "outputs": [],
   "source": [
    "df = pd.concat([nasdaq, amex, nyse])"
   ]
  },
  {
   "cell_type": "code",
   "execution_count": 15,
   "metadata": {},
   "outputs": [],
   "source": [
    "df.set_index('Symbol', inplace = True)"
   ]
  },
  {
   "cell_type": "code",
   "execution_count": 16,
   "metadata": {},
   "outputs": [
    {
     "data": {
      "text/plain": [
       "Name              object\n",
       "LastSale         float64\n",
       "MarketCap         object\n",
       "IPOyear          float64\n",
       "Sector            object\n",
       "industry          object\n",
       "Summary Quote     object\n",
       "Unnamed: 8       float64\n",
       "dtype: object"
      ]
     },
     "execution_count": 16,
     "metadata": {},
     "output_type": "execute_result"
    }
   ],
   "source": [
    "df.dtypes"
   ]
  },
  {
   "cell_type": "code",
   "execution_count": 17,
   "metadata": {},
   "outputs": [],
   "source": [
    "df.drop(columns = ['LastSale', 'IPOyear', 'Unnamed: 8', 'Summary Quote'], inplace=True)"
   ]
  },
  {
   "cell_type": "code",
   "execution_count": 18,
   "metadata": {},
   "outputs": [],
   "source": [
    "df.dropna(inplace=True)"
   ]
  },
  {
   "cell_type": "code",
   "execution_count": 50,
   "metadata": {},
   "outputs": [],
   "source": [
    "df.MarketCap = pd.to_numeric(df.MarketCap)"
   ]
  },
  {
   "cell_type": "code",
   "execution_count": 54,
   "metadata": {},
   "outputs": [],
   "source": [
    "import numpy as np\n",
    "df.MarketCap = np.log(df.MarketCap)"
   ]
  },
  {
   "cell_type": "code",
   "execution_count": 76,
   "metadata": {},
   "outputs": [],
   "source": [
    "df_returns = df_returns.join(df, how='left')"
   ]
  },
  {
   "cell_type": "code",
   "execution_count": 94,
   "metadata": {},
   "outputs": [],
   "source": [
    "df_returns = df_returns.join(pd.get_dummies(df_returns.Sector), how='left')"
   ]
  },
  {
   "cell_type": "code",
   "execution_count": 97,
   "metadata": {},
   "outputs": [],
   "source": [
    "df_returns['WorstReturns'] = 0"
   ]
  },
  {
   "cell_type": "code",
   "execution_count": 98,
   "metadata": {},
   "outputs": [
    {
     "data": {
      "text/plain": [
       "Index(['2014', '2015', '2016', '2017', '2018', '2019', 'Name', 'MarketCap',\n",
       "       'Sector', 'industry', 'Basic Industries', 'Capital Goods',\n",
       "       'Consumer Durables', 'Consumer Non-Durables', 'Consumer Services',\n",
       "       'Energy', 'Finance', 'Health Care', 'Miscellaneous', 'Public Utilities',\n",
       "       'Technology', 'Transportation', 'WorstReturns'],\n",
       "      dtype='object')"
      ]
     },
     "execution_count": 98,
     "metadata": {},
     "output_type": "execute_result"
    }
   ],
   "source": [
    "df_returns.columns"
   ]
  },
  {
   "cell_type": "code",
   "execution_count": 106,
   "metadata": {},
   "outputs": [
    {
     "data": {
      "text/plain": [
       "(462,)"
      ]
     },
     "execution_count": 106,
     "metadata": {},
     "output_type": "execute_result"
    }
   ],
   "source": [
    "df_returns.Transportation.shape"
   ]
  },
  {
   "cell_type": "code",
   "execution_count": 113,
   "metadata": {},
   "outputs": [
    {
     "data": {
      "text/html": [
       "<table class=\"simpletable\">\n",
       "<caption>OLS Regression Results</caption>\n",
       "<tr>\n",
       "  <th>Dep. Variable:</th>      <td>WorstReturns</td>   <th>  R-squared:         </th> <td>   0.015</td>\n",
       "</tr>\n",
       "<tr>\n",
       "  <th>Model:</th>                   <td>OLS</td>       <th>  Adj. R-squared:    </th> <td>   0.010</td>\n",
       "</tr>\n",
       "<tr>\n",
       "  <th>Method:</th>             <td>Least Squares</td>  <th>  F-statistic:       </th> <td>   3.357</td>\n",
       "</tr>\n",
       "<tr>\n",
       "  <th>Date:</th>             <td>Mon, 15 Jul 2019</td> <th>  Prob (F-statistic):</th>  <td>0.0357</td> \n",
       "</tr>\n",
       "<tr>\n",
       "  <th>Time:</th>                 <td>16:32:32</td>     <th>  Log-Likelihood:    </th> <td> -262.26</td>\n",
       "</tr>\n",
       "<tr>\n",
       "  <th>No. Observations:</th>      <td>   457</td>      <th>  AIC:               </th> <td>   530.5</td>\n",
       "</tr>\n",
       "<tr>\n",
       "  <th>Df Residuals:</th>          <td>   454</td>      <th>  BIC:               </th> <td>   542.9</td>\n",
       "</tr>\n",
       "<tr>\n",
       "  <th>Df Model:</th>              <td>     2</td>      <th>                     </th>     <td> </td>   \n",
       "</tr>\n",
       "<tr>\n",
       "  <th>Covariance Type:</th>      <td>nonrobust</td>    <th>                     </th>     <td> </td>   \n",
       "</tr>\n",
       "</table>\n",
       "<table class=\"simpletable\">\n",
       "<tr>\n",
       "         <td></td>           <th>coef</th>     <th>std err</th>      <th>t</th>      <th>P>|t|</th>  <th>[0.025</th>    <th>0.975]</th>  \n",
       "</tr>\n",
       "<tr>\n",
       "  <th>Intercept</th>      <td>    0.1252</td> <td>    0.066</td> <td>    1.889</td> <td> 0.060</td> <td>   -0.005</td> <td>    0.255</td>\n",
       "</tr>\n",
       "<tr>\n",
       "  <th>Transportation</th> <td>   -0.1822</td> <td>    0.117</td> <td>   -1.557</td> <td> 0.120</td> <td>   -0.412</td> <td>    0.048</td>\n",
       "</tr>\n",
       "<tr>\n",
       "  <th>MarketCap</th>      <td>    0.0394</td> <td>    0.019</td> <td>    2.061</td> <td> 0.040</td> <td>    0.002</td> <td>    0.077</td>\n",
       "</tr>\n",
       "</table>\n",
       "<table class=\"simpletable\">\n",
       "<tr>\n",
       "  <th>Omnibus:</th>       <td>85.793</td> <th>  Durbin-Watson:     </th> <td>   2.012</td>\n",
       "</tr>\n",
       "<tr>\n",
       "  <th>Prob(Omnibus):</th> <td> 0.000</td> <th>  Jarque-Bera (JB):  </th> <td> 104.687</td>\n",
       "</tr>\n",
       "<tr>\n",
       "  <th>Skew:</th>          <td> 1.124</td> <th>  Prob(JB):          </th> <td>1.85e-23</td>\n",
       "</tr>\n",
       "<tr>\n",
       "  <th>Kurtosis:</th>      <td> 2.334</td> <th>  Cond. No.          </th> <td>    20.8</td>\n",
       "</tr>\n",
       "</table><br/><br/>Warnings:<br/>[1] Standard Errors assume that the covariance matrix of the errors is correctly specified."
      ],
      "text/plain": [
       "<class 'statsmodels.iolib.summary.Summary'>\n",
       "\"\"\"\n",
       "                            OLS Regression Results                            \n",
       "==============================================================================\n",
       "Dep. Variable:           WorstReturns   R-squared:                       0.015\n",
       "Model:                            OLS   Adj. R-squared:                  0.010\n",
       "Method:                 Least Squares   F-statistic:                     3.357\n",
       "Date:                Mon, 15 Jul 2019   Prob (F-statistic):             0.0357\n",
       "Time:                        16:32:32   Log-Likelihood:                -262.26\n",
       "No. Observations:                 457   AIC:                             530.5\n",
       "Df Residuals:                     454   BIC:                             542.9\n",
       "Df Model:                           2                                         \n",
       "Covariance Type:            nonrobust                                         \n",
       "==================================================================================\n",
       "                     coef    std err          t      P>|t|      [0.025      0.975]\n",
       "----------------------------------------------------------------------------------\n",
       "Intercept          0.1252      0.066      1.889      0.060      -0.005       0.255\n",
       "Transportation    -0.1822      0.117     -1.557      0.120      -0.412       0.048\n",
       "MarketCap          0.0394      0.019      2.061      0.040       0.002       0.077\n",
       "==============================================================================\n",
       "Omnibus:                       85.793   Durbin-Watson:                   2.012\n",
       "Prob(Omnibus):                  0.000   Jarque-Bera (JB):              104.687\n",
       "Skew:                           1.124   Prob(JB):                     1.85e-23\n",
       "Kurtosis:                       2.334   Cond. No.                         20.8\n",
       "==============================================================================\n",
       "\n",
       "Warnings:\n",
       "[1] Standard Errors assume that the covariance matrix of the errors is correctly specified.\n",
       "\"\"\""
      ]
     },
     "execution_count": 113,
     "metadata": {},
     "output_type": "execute_result"
    }
   ],
   "source": [
    "f = 'WorstReturns~Transportation+MarketCap'\n",
    "model = smf.ols(f, data=df_returns).fit()\n",
    "model.summary()"
   ]
  },
  {
   "cell_type": "code",
   "execution_count": 108,
   "metadata": {},
   "outputs": [],
   "source": [
    "df_returns.WorstReturns = df_returns.WorstReturns.map({True:1,False:0})"
   ]
  },
  {
   "cell_type": "code",
   "execution_count": null,
   "metadata": {},
   "outputs": [],
   "source": []
  }
 ],
 "metadata": {
  "kernelspec": {
   "display_name": "Python 3",
   "language": "python",
   "name": "python3"
  },
  "language_info": {
   "codemirror_mode": {
    "name": "ipython",
    "version": 3
   },
   "file_extension": ".py",
   "mimetype": "text/x-python",
   "name": "python",
   "nbconvert_exporter": "python",
   "pygments_lexer": "ipython3",
   "version": "3.7.3"
  }
 },
 "nbformat": 4,
 "nbformat_minor": 2
}
